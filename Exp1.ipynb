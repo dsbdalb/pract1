{
 "cells": [
  {
   "cell_type": "code",
   "execution_count": 1,
   "id": "b7147dde",
   "metadata": {},
   "outputs": [],
   "source": [
    "import pandas as pd"
   ]
  },
  {
   "cell_type": "code",
   "execution_count": 2,
   "id": "ed734846",
   "metadata": {},
   "outputs": [],
   "source": [
    "data = {\"Name\":[\"Rajeev\",\"Sakshi\",\"Murti\",\"Rohini\",\"Pranita\",\"Shivam\",\"Sayali\"],\"Marks\":[12,13,41,\"NaN\",45,\"NaN\",18],\"Gender\":[\"M\",\"F\",\"M\",\"F\",\"F\",\"M\",\"F\"],\"Branch\":[\"CSE\",\"MEC\",\"CSE\",\"CSE\",\"MEC\",\"MEC\",\"CSE\"]} "
   ]
  },
  {
   "cell_type": "code",
   "execution_count": 8,
   "id": "c50f1167",
   "metadata": {},
   "outputs": [
    {
     "data": {
      "text/html": [
       "<div>\n",
       "<style scoped>\n",
       "    .dataframe tbody tr th:only-of-type {\n",
       "        vertical-align: middle;\n",
       "    }\n",
       "\n",
       "    .dataframe tbody tr th {\n",
       "        vertical-align: top;\n",
       "    }\n",
       "\n",
       "    .dataframe thead th {\n",
       "        text-align: right;\n",
       "    }\n",
       "</style>\n",
       "<table border=\"1\" class=\"dataframe\">\n",
       "  <thead>\n",
       "    <tr style=\"text-align: right;\">\n",
       "      <th></th>\n",
       "      <th>Name</th>\n",
       "      <th>Marks</th>\n",
       "      <th>Gender</th>\n",
       "      <th>Branch</th>\n",
       "    </tr>\n",
       "  </thead>\n",
       "  <tbody>\n",
       "    <tr>\n",
       "      <th>0</th>\n",
       "      <td>Rajeev</td>\n",
       "      <td>12</td>\n",
       "      <td>M</td>\n",
       "      <td>CSE</td>\n",
       "    </tr>\n",
       "    <tr>\n",
       "      <th>1</th>\n",
       "      <td>Sakshi</td>\n",
       "      <td>13</td>\n",
       "      <td>F</td>\n",
       "      <td>MEC</td>\n",
       "    </tr>\n",
       "    <tr>\n",
       "      <th>2</th>\n",
       "      <td>Murti</td>\n",
       "      <td>41</td>\n",
       "      <td>M</td>\n",
       "      <td>CSE</td>\n",
       "    </tr>\n",
       "    <tr>\n",
       "      <th>3</th>\n",
       "      <td>Rohini</td>\n",
       "      <td>NaN</td>\n",
       "      <td>F</td>\n",
       "      <td>CSE</td>\n",
       "    </tr>\n",
       "    <tr>\n",
       "      <th>4</th>\n",
       "      <td>Pranita</td>\n",
       "      <td>45</td>\n",
       "      <td>F</td>\n",
       "      <td>MEC</td>\n",
       "    </tr>\n",
       "    <tr>\n",
       "      <th>5</th>\n",
       "      <td>Shivam</td>\n",
       "      <td>NaN</td>\n",
       "      <td>M</td>\n",
       "      <td>MEC</td>\n",
       "    </tr>\n",
       "    <tr>\n",
       "      <th>6</th>\n",
       "      <td>Sayali</td>\n",
       "      <td>18</td>\n",
       "      <td>F</td>\n",
       "      <td>CSE</td>\n",
       "    </tr>\n",
       "  </tbody>\n",
       "</table>\n",
       "</div>"
      ],
      "text/plain": [
       "      Name Marks Gender Branch\n",
       "0   Rajeev    12      M    CSE\n",
       "1   Sakshi    13      F    MEC\n",
       "2    Murti    41      M    CSE\n",
       "3   Rohini   NaN      F    CSE\n",
       "4  Pranita    45      F    MEC\n",
       "5   Shivam   NaN      M    MEC\n",
       "6   Sayali    18      F    CSE"
      ]
     },
     "execution_count": 8,
     "metadata": {},
     "output_type": "execute_result"
    }
   ],
   "source": [
    "a = pd.DataFrame(data)\n",
    "a"
   ]
  },
  {
   "cell_type": "code",
   "execution_count": 9,
   "id": "ef54579a",
   "metadata": {},
   "outputs": [
    {
     "data": {
      "text/html": [
       "<div>\n",
       "<style scoped>\n",
       "    .dataframe tbody tr th:only-of-type {\n",
       "        vertical-align: middle;\n",
       "    }\n",
       "\n",
       "    .dataframe tbody tr th {\n",
       "        vertical-align: top;\n",
       "    }\n",
       "\n",
       "    .dataframe thead th {\n",
       "        text-align: right;\n",
       "    }\n",
       "</style>\n",
       "<table border=\"1\" class=\"dataframe\">\n",
       "  <thead>\n",
       "    <tr style=\"text-align: right;\">\n",
       "      <th></th>\n",
       "      <th>Name</th>\n",
       "      <th>Marks</th>\n",
       "      <th>Gender</th>\n",
       "      <th>Branch</th>\n",
       "    </tr>\n",
       "  </thead>\n",
       "  <tbody>\n",
       "    <tr>\n",
       "      <th>0</th>\n",
       "      <td>Rajeev</td>\n",
       "      <td>12</td>\n",
       "      <td>M</td>\n",
       "      <td>CSE</td>\n",
       "    </tr>\n",
       "    <tr>\n",
       "      <th>1</th>\n",
       "      <td>Sakshi</td>\n",
       "      <td>13</td>\n",
       "      <td>F</td>\n",
       "      <td>MEC</td>\n",
       "    </tr>\n",
       "    <tr>\n",
       "      <th>2</th>\n",
       "      <td>Murti</td>\n",
       "      <td>41</td>\n",
       "      <td>M</td>\n",
       "      <td>CSE</td>\n",
       "    </tr>\n",
       "    <tr>\n",
       "      <th>3</th>\n",
       "      <td>Rohini</td>\n",
       "      <td>5</td>\n",
       "      <td>F</td>\n",
       "      <td>CSE</td>\n",
       "    </tr>\n",
       "    <tr>\n",
       "      <th>4</th>\n",
       "      <td>Pranita</td>\n",
       "      <td>45</td>\n",
       "      <td>F</td>\n",
       "      <td>MEC</td>\n",
       "    </tr>\n",
       "    <tr>\n",
       "      <th>5</th>\n",
       "      <td>Shivam</td>\n",
       "      <td>5</td>\n",
       "      <td>M</td>\n",
       "      <td>MEC</td>\n",
       "    </tr>\n",
       "    <tr>\n",
       "      <th>6</th>\n",
       "      <td>Sayali</td>\n",
       "      <td>18</td>\n",
       "      <td>F</td>\n",
       "      <td>CSE</td>\n",
       "    </tr>\n",
       "  </tbody>\n",
       "</table>\n",
       "</div>"
      ],
      "text/plain": [
       "      Name  Marks Gender Branch\n",
       "0   Rajeev     12      M    CSE\n",
       "1   Sakshi     13      F    MEC\n",
       "2    Murti     41      M    CSE\n",
       "3   Rohini      5      F    CSE\n",
       "4  Pranita     45      F    MEC\n",
       "5   Shivam      5      M    MEC\n",
       "6   Sayali     18      F    CSE"
      ]
     },
     "execution_count": 9,
     "metadata": {},
     "output_type": "execute_result"
    }
   ],
   "source": [
    "a=a.replace(to_replace=\"NaN\", value = 5)\n",
    "a"
   ]
  },
  {
   "cell_type": "code",
   "execution_count": 5,
   "id": "76c4c9b9",
   "metadata": {},
   "outputs": [],
   "source": [
    "c=avg=0\n",
    "for ele in a[\"Marks\"]:\n",
    "    if str(ele).isnumeric():\n",
    "        c+=1\n",
    "        avg+=ele\n",
    "avg/=c"
   ]
  },
  {
   "cell_type": "code",
   "execution_count": 13,
   "id": "e2da5e7a",
   "metadata": {},
   "outputs": [],
   "source": [
    "a[\"Gender\"]=a[\"Gender\"].map({\"M\":0,\"F\":1})"
   ]
  },
  {
   "cell_type": "code",
   "execution_count": 14,
   "id": "3dd7e1e2",
   "metadata": {},
   "outputs": [
    {
     "data": {
      "text/html": [
       "<div>\n",
       "<style scoped>\n",
       "    .dataframe tbody tr th:only-of-type {\n",
       "        vertical-align: middle;\n",
       "    }\n",
       "\n",
       "    .dataframe tbody tr th {\n",
       "        vertical-align: top;\n",
       "    }\n",
       "\n",
       "    .dataframe thead th {\n",
       "        text-align: right;\n",
       "    }\n",
       "</style>\n",
       "<table border=\"1\" class=\"dataframe\">\n",
       "  <thead>\n",
       "    <tr style=\"text-align: right;\">\n",
       "      <th></th>\n",
       "      <th>Name</th>\n",
       "      <th>Marks</th>\n",
       "      <th>Gender</th>\n",
       "      <th>Branch</th>\n",
       "    </tr>\n",
       "  </thead>\n",
       "  <tbody>\n",
       "    <tr>\n",
       "      <th>0</th>\n",
       "      <td>Rajeev</td>\n",
       "      <td>12.000000</td>\n",
       "      <td>0</td>\n",
       "      <td>CSE</td>\n",
       "    </tr>\n",
       "    <tr>\n",
       "      <th>1</th>\n",
       "      <td>Sakshi</td>\n",
       "      <td>13.000000</td>\n",
       "      <td>1</td>\n",
       "      <td>MEC</td>\n",
       "    </tr>\n",
       "    <tr>\n",
       "      <th>2</th>\n",
       "      <td>Murti</td>\n",
       "      <td>41.000000</td>\n",
       "      <td>0</td>\n",
       "      <td>CSE</td>\n",
       "    </tr>\n",
       "    <tr>\n",
       "      <th>3</th>\n",
       "      <td>Rohini</td>\n",
       "      <td>5.000000</td>\n",
       "      <td>1</td>\n",
       "      <td>CSE</td>\n",
       "    </tr>\n",
       "    <tr>\n",
       "      <th>4</th>\n",
       "      <td>Pranita</td>\n",
       "      <td>45.000000</td>\n",
       "      <td>1</td>\n",
       "      <td>MEC</td>\n",
       "    </tr>\n",
       "    <tr>\n",
       "      <th>5</th>\n",
       "      <td>Shivam</td>\n",
       "      <td>5.000000</td>\n",
       "      <td>0</td>\n",
       "      <td>MEC</td>\n",
       "    </tr>\n",
       "    <tr>\n",
       "      <th>6</th>\n",
       "      <td>Sayali</td>\n",
       "      <td>19.857143</td>\n",
       "      <td>1</td>\n",
       "      <td>CSE</td>\n",
       "    </tr>\n",
       "  </tbody>\n",
       "</table>\n",
       "</div>"
      ],
      "text/plain": [
       "      Name      Marks  Gender Branch\n",
       "0   Rajeev  12.000000       0    CSE\n",
       "1   Sakshi  13.000000       1    MEC\n",
       "2    Murti  41.000000       0    CSE\n",
       "3   Rohini   5.000000       1    CSE\n",
       "4  Pranita  45.000000       1    MEC\n",
       "5   Shivam   5.000000       0    MEC\n",
       "6   Sayali  19.857143       1    CSE"
      ]
     },
     "execution_count": 14,
     "metadata": {},
     "output_type": "execute_result"
    }
   ],
   "source": [
    "a=a.replace(to_replace=18, value = avg)\n",
    "a"
   ]
  },
  {
   "cell_type": "code",
   "execution_count": 12,
   "id": "8225b520",
   "metadata": {},
   "outputs": [
    {
     "name": "stdout",
     "output_type": "stream",
     "text": [
      "0    False\n",
      "1    False\n",
      "2     True\n",
      "3    False\n",
      "4     True\n",
      "5    False\n",
      "6     True\n",
      "Name: Marks, dtype: bool\n"
     ]
    }
   ],
   "source": [
    "print(a[\"Marks\"]>13)"
   ]
  },
  {
   "cell_type": "code",
   "execution_count": 15,
   "id": "413b3fa9",
   "metadata": {},
   "outputs": [],
   "source": [
    "Fees_Data = {\"Name\":[\"Rajeev\",\"Sakshi\",\"Murti\",\"Rohini\"],\"Fees\":[\"Nill\",\"Pending\",\"Nill\",\"Pending\"]}"
   ]
  },
  {
   "cell_type": "code",
   "execution_count": 16,
   "id": "22314405",
   "metadata": {},
   "outputs": [],
   "source": [
    "b = pd.DataFrame(Fees_Data)"
   ]
  },
  {
   "cell_type": "code",
   "execution_count": 17,
   "id": "d32c9e0f",
   "metadata": {},
   "outputs": [],
   "source": [
    "c = pd.merge(a,b,on=\"Name\")"
   ]
  },
  {
   "cell_type": "code",
   "execution_count": 18,
   "id": "59924613",
   "metadata": {},
   "outputs": [
    {
     "data": {
      "text/html": [
       "<div>\n",
       "<style scoped>\n",
       "    .dataframe tbody tr th:only-of-type {\n",
       "        vertical-align: middle;\n",
       "    }\n",
       "\n",
       "    .dataframe tbody tr th {\n",
       "        vertical-align: top;\n",
       "    }\n",
       "\n",
       "    .dataframe thead th {\n",
       "        text-align: right;\n",
       "    }\n",
       "</style>\n",
       "<table border=\"1\" class=\"dataframe\">\n",
       "  <thead>\n",
       "    <tr style=\"text-align: right;\">\n",
       "      <th></th>\n",
       "      <th>Name</th>\n",
       "      <th>Marks</th>\n",
       "      <th>Gender</th>\n",
       "      <th>Branch</th>\n",
       "      <th>Fees</th>\n",
       "    </tr>\n",
       "  </thead>\n",
       "  <tbody>\n",
       "    <tr>\n",
       "      <th>0</th>\n",
       "      <td>Rajeev</td>\n",
       "      <td>12.0</td>\n",
       "      <td>0</td>\n",
       "      <td>CSE</td>\n",
       "      <td>Nill</td>\n",
       "    </tr>\n",
       "    <tr>\n",
       "      <th>1</th>\n",
       "      <td>Sakshi</td>\n",
       "      <td>13.0</td>\n",
       "      <td>1</td>\n",
       "      <td>MEC</td>\n",
       "      <td>Pending</td>\n",
       "    </tr>\n",
       "    <tr>\n",
       "      <th>2</th>\n",
       "      <td>Murti</td>\n",
       "      <td>41.0</td>\n",
       "      <td>0</td>\n",
       "      <td>CSE</td>\n",
       "      <td>Nill</td>\n",
       "    </tr>\n",
       "    <tr>\n",
       "      <th>3</th>\n",
       "      <td>Rohini</td>\n",
       "      <td>5.0</td>\n",
       "      <td>1</td>\n",
       "      <td>CSE</td>\n",
       "      <td>Pending</td>\n",
       "    </tr>\n",
       "  </tbody>\n",
       "</table>\n",
       "</div>"
      ],
      "text/plain": [
       "     Name  Marks  Gender Branch     Fees\n",
       "0  Rajeev   12.0       0    CSE     Nill\n",
       "1  Sakshi   13.0       1    MEC  Pending\n",
       "2   Murti   41.0       0    CSE     Nill\n",
       "3  Rohini    5.0       1    CSE  Pending"
      ]
     },
     "execution_count": 18,
     "metadata": {},
     "output_type": "execute_result"
    }
   ],
   "source": [
    "c"
   ]
  },
  {
   "cell_type": "code",
   "execution_count": 20,
   "id": "c29ae4e1",
   "metadata": {},
   "outputs": [
    {
     "data": {
      "text/html": [
       "<div>\n",
       "<style scoped>\n",
       "    .dataframe tbody tr th:only-of-type {\n",
       "        vertical-align: middle;\n",
       "    }\n",
       "\n",
       "    .dataframe tbody tr th {\n",
       "        vertical-align: top;\n",
       "    }\n",
       "\n",
       "    .dataframe thead th {\n",
       "        text-align: right;\n",
       "    }\n",
       "</style>\n",
       "<table border=\"1\" class=\"dataframe\">\n",
       "  <thead>\n",
       "    <tr style=\"text-align: right;\">\n",
       "      <th></th>\n",
       "      <th>Name</th>\n",
       "      <th>Marks</th>\n",
       "      <th>Gender</th>\n",
       "      <th>Branch</th>\n",
       "    </tr>\n",
       "  </thead>\n",
       "  <tbody>\n",
       "    <tr>\n",
       "      <th>0</th>\n",
       "      <td>Rajeev</td>\n",
       "      <td>12.000000</td>\n",
       "      <td>0</td>\n",
       "      <td>CSE</td>\n",
       "    </tr>\n",
       "    <tr>\n",
       "      <th>2</th>\n",
       "      <td>Murti</td>\n",
       "      <td>41.000000</td>\n",
       "      <td>0</td>\n",
       "      <td>CSE</td>\n",
       "    </tr>\n",
       "    <tr>\n",
       "      <th>3</th>\n",
       "      <td>Rohini</td>\n",
       "      <td>5.000000</td>\n",
       "      <td>1</td>\n",
       "      <td>CSE</td>\n",
       "    </tr>\n",
       "    <tr>\n",
       "      <th>6</th>\n",
       "      <td>Sayali</td>\n",
       "      <td>19.857143</td>\n",
       "      <td>1</td>\n",
       "      <td>CSE</td>\n",
       "    </tr>\n",
       "  </tbody>\n",
       "</table>\n",
       "</div>"
      ],
      "text/plain": [
       "     Name      Marks  Gender Branch\n",
       "0  Rajeev  12.000000       0    CSE\n",
       "2   Murti  41.000000       0    CSE\n",
       "3  Rohini   5.000000       1    CSE\n",
       "6  Sayali  19.857143       1    CSE"
      ]
     },
     "execution_count": 20,
     "metadata": {},
     "output_type": "execute_result"
    }
   ],
   "source": [
    "d = a.groupby(\"Branch\")\n",
    "d.get_group(\"CSE\")"
   ]
  },
  {
   "cell_type": "code",
   "execution_count": 25,
   "id": "207da03a",
   "metadata": {},
   "outputs": [],
   "source": [
    "Non_Dup = a[~a.duplicated(\"Gender\")]"
   ]
  },
  {
   "cell_type": "code",
   "execution_count": 26,
   "id": "21db22ac",
   "metadata": {},
   "outputs": [
    {
     "data": {
      "text/html": [
       "<div>\n",
       "<style scoped>\n",
       "    .dataframe tbody tr th:only-of-type {\n",
       "        vertical-align: middle;\n",
       "    }\n",
       "\n",
       "    .dataframe tbody tr th {\n",
       "        vertical-align: top;\n",
       "    }\n",
       "\n",
       "    .dataframe thead th {\n",
       "        text-align: right;\n",
       "    }\n",
       "</style>\n",
       "<table border=\"1\" class=\"dataframe\">\n",
       "  <thead>\n",
       "    <tr style=\"text-align: right;\">\n",
       "      <th></th>\n",
       "      <th>Name</th>\n",
       "      <th>Marks</th>\n",
       "      <th>Gender</th>\n",
       "      <th>Branch</th>\n",
       "    </tr>\n",
       "  </thead>\n",
       "  <tbody>\n",
       "    <tr>\n",
       "      <th>0</th>\n",
       "      <td>Rajeev</td>\n",
       "      <td>12.0</td>\n",
       "      <td>0</td>\n",
       "      <td>CSE</td>\n",
       "    </tr>\n",
       "    <tr>\n",
       "      <th>1</th>\n",
       "      <td>Sakshi</td>\n",
       "      <td>13.0</td>\n",
       "      <td>1</td>\n",
       "      <td>MEC</td>\n",
       "    </tr>\n",
       "  </tbody>\n",
       "</table>\n",
       "</div>"
      ],
      "text/plain": [
       "     Name  Marks  Gender Branch\n",
       "0  Rajeev   12.0       0    CSE\n",
       "1  Sakshi   13.0       1    MEC"
      ]
     },
     "execution_count": 26,
     "metadata": {},
     "output_type": "execute_result"
    }
   ],
   "source": [
    "Non_Dup"
   ]
  },
  {
   "cell_type": "code",
   "execution_count": null,
   "id": "d81ff53a",
   "metadata": {},
   "outputs": [],
   "source": []
  }
 ],
 "metadata": {
  "kernelspec": {
   "display_name": "Python 3 (ipykernel)",
   "language": "python",
   "name": "python3"
  },
  "language_info": {
   "codemirror_mode": {
    "name": "ipython",
    "version": 3
   },
   "file_extension": ".py",
   "mimetype": "text/x-python",
   "name": "python",
   "nbconvert_exporter": "python",
   "pygments_lexer": "ipython3",
   "version": "3.10.9"
  }
 },
 "nbformat": 4,
 "nbformat_minor": 5
}
